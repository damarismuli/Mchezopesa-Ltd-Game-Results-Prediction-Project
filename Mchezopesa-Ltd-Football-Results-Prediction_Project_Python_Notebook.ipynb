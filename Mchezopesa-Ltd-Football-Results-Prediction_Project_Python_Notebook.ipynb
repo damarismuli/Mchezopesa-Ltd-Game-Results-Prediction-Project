{
 "cells": [
  {
   "cell_type": "code",
   "execution_count": null,
   "metadata": {},
   "outputs": [],
   "source": [
    "Mchezopesa-Ltd-Football-Results-Prediction_Project_Python_Notebook.ipynb"
   ]
  }
 ],
 "metadata": {
  "language_info": {
   "name": "python"
  },
  "orig_nbformat": 4
 },
 "nbformat": 4,
 "nbformat_minor": 2
}
